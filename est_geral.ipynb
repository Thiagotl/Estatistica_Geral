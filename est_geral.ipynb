{
 "cells": [
  {
   "cell_type": "markdown",
   "metadata": {},
   "source": [
    "# Estatística Descritiva e Geral  \n",
    "### Autor: Thiago Tavares Lopes\n",
    "### Contato: \n"
   ]
  },
  {
   "cell_type": "markdown",
   "metadata": {},
   "source": [
    "### Apresentação Pessoal\n",
    "Meu nome é Thiago, sou químico e, atualmente, estudante de Estatística na Universidade Federal de Santa Maria. Após uma longa jornada no mundo da química, envolvendo pesquisas científicas, artigos acadêmicos e inúmeras culturas de bactérias dentro de tubos de ensaio, passei anos imerso em laboratórios de biotecnologia, de 2013 até 2019. Durante esse período, tive a ideia de redefinir meus planos de vida, possivelmente influenciado pela pandemia desisti do mestrado e fui seguir um sonho antigo.\n",
    "\n",
    "Em 2014, enquanto cursava a disciplina de Estatística Básica e Probabilidade no curso de química, fiquei surpreso com a capacidade de descobrir informações relevantes a partir de conjuntos de dados. Essa sensação foi semelhante à que experimentei quando tive meu primeiro contato com um HPLC (equipamenteo de análise química), embora eu não consiga explicar exatamente o que desencadeou essa mudança de perspectiva. Acredito que todos já tenham vivenciado momentos assim.\n",
    "Em resumo, percebi que precisava cursar o bacharelado em Estatística em algum momento da minha vida. Assim, em maio de 2021, iniciei essa jornada, a 3.862,2 km de distância de casa.\n",
    "\n",
    "Desde então, entrei numa empresa júnior de consultoria estatística (inclusive, fui presidente), participei de vários processos seletivos, aprimorei minhas habildades em programação e comunicação, virei sócio numa empresa de análise de dados para acadêmicos de pós-graduação (Adamy Tech). No geral, fiz bastante coisa como todo brasileiro médio em busca do seu lugar ao sol.\n",
    "\n",
    "Por fim, gostaria de expressar meus sinceros agradecimentos ao professor Vinicius Duarte, do curso de Estatística da UFPa, que no ano de 2014 ministrou a disciplina com imensurável dedicação e paciência. Embora não saiba se o Sr. um dia lerá este texto, quero dizer: muito obrigado. \n",
    "\n"
   ]
  },
  {
   "cell_type": "markdown",
   "metadata": {},
   "source": [
    "Bibliotecas Python utilizadas\n",
    " - [Pandas](https://pandas.pydata.org/)\n",
    " - [Numpy](https://numpy.org/doc/stable/index.html#)\n",
    " - [Seaborn](https://seaborn.pydata.org/)\n",
    " - [Matplotlib](https://matplotlib.org/)\n",
    "\n",
    "\n",
    "Não pretendo me aprofundar nas bibliotecas utilizadas neste documento. Em caso de dúvidas, recomendo consultar a documentação de cada uma delas.\n",
    "\n",
    "\n",
    " Base de dados:  Para alguns exemplos de construção gráfica e de resolução de exercícios, utilizei dados disponibilizados no seguinte [link](https://www.ime.usp.br/~pam/EstBas.html) "
   ]
  },
  {
   "cell_type": "code",
   "execution_count": null,
   "metadata": {},
   "outputs": [],
   "source": [
    "#  BIBLIOTECAS\n",
    "import pandas as pd\n",
    "import numpy as np\n",
    "import seaborn as sn\n",
    "import matplotlib.pyplot as plt"
   ]
  },
  {
   "cell_type": "markdown",
   "metadata": {},
   "source": [
    "# Capítulo 1 -  População e Amostra\n",
    "\n",
    "Antes de inciarmos as aplicações das medidas de posições, ditribuições de frequências ou representação gráfica  de  em um conjunto de dados, é importante formalizar alguns conceitos básicos, porém de suma importância para a compreensão do objetivo principal da estatística descritiva. \n",
    "Afinal, o que seria uma populção e o que seria uma amostra ? \n",
    "De forma resumida, podemos definir a população como o conjunto total dos elementos que são de interesse de estudo e apresentam similaridade entre si. Por exemplo:\n",
    "- Um grupo de aves;\n",
    "- Alunos(as) de uma universidade; \n",
    "- Um conjunto de carros fabricados anualmente.\n",
    "\n",
    "Por outro lado, uma amostra é um subconjunto significativo da população, comumente utilizado quando estudar toda população se torna inviável por inúmeros fatores. \n",
    "\n",
    "Vamos utilizar um exemplo prático: Imagine uma escola com um total de **1500 alunos**, divididos em dois turnos distintos. Um estatístico deseja estudar o desempenho dos alunos de todas as séries em algumas disciplinas. Para isso, ele sorteia aleatoriamente os números de matrícula e coleta informações sobre as notas de uma amostra de **200 alunos**, que pertencem a diferentes turmas e sexos. Portanto, temos a **população de 1500 alunos** e uma **amostra aleatória de 200 alunos**.\n",
    "\n",
    "Para mais informações acesseo o [glossário](https://www.statistics.com/). \n"
   ]
  },
  {
   "cell_type": "markdown",
   "metadata": {},
   "source": [
    "# Capitulo ? - Medidas de Posições "
   ]
  },
  {
   "cell_type": "markdown",
   "metadata": {},
   "source": [
    "Se o objetivo for reduzir nosso conjuto de dados em uma única medida  podemos usar uma medida de posição como **média**, **mediana** ou **moda**.  Também são conhecidas com medidas de tedência central  e possibilitam o confronto de comparações e grupos de dados entre si.\n",
    "Por exemplo, a média mensais  das vendas de diferentes vendedores de uma loja de roupas.  "
   ]
  },
  {
   "cell_type": "markdown",
   "metadata": {},
   "source": [
    "## Média Aritimética \n",
    "A média aritimética nada mais é do que a soma de todo o seu conjunto de dados dividido pelo total, segue a expressão matemática:\n",
    "\n",
    "- Média Populacional ($\\mu$)\n",
    "<div align = \"center\" >\n",
    "\n",
    "$\\mu = \\frac{1}{N} \\sum_{i=1}^{N}X_{i}$\n",
    "\n",
    "</div>\n",
    "\n",
    "Para o entendimento de leitores não familiarizados com a linguaguem matemática, Em  **$\\mu$** leia **mu** e em **$\\sum$** leia **somatório**.  \n"
   ]
  },
  {
   "cell_type": "markdown",
   "metadata": {},
   "source": []
  },
  {
   "cell_type": "code",
   "execution_count": null,
   "metadata": {},
   "outputs": [],
   "source": []
  }
 ],
 "metadata": {
  "kernelspec": {
   "display_name": "venv",
   "language": "python",
   "name": "python3"
  },
  "language_info": {
   "codemirror_mode": {
    "name": "ipython",
    "version": 3
   },
   "file_extension": ".py",
   "mimetype": "text/x-python",
   "name": "python",
   "nbconvert_exporter": "python",
   "pygments_lexer": "ipython3",
   "version": "3.9.16+"
  }
 },
 "nbformat": 4,
 "nbformat_minor": 2
}
