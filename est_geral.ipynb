{
 "cells": [
  {
   "cell_type": "markdown",
   "metadata": {},
   "source": [
    "# Estatística Descritiva e Geral  \n",
    "### Autor: Thiago Tavares Lopes\n",
    "### Contato: \n"
   ]
  },
  {
   "cell_type": "markdown",
   "metadata": {},
   "source": [
    "### Apresentação Pessoal\n",
    "Meu nome é Thiago, sou químico e, atualmente, estudante de Estatística na Universidade Federal de Santa Maria. Após uma longa jornada no mundo da química, envolvendo pesquisas científicas, artigos acadêmicos e inúmeras culturas de bactérias dentro de tubos de ensaio, passei anos imerso em laboratórios de biotecnologia, de 2013 até 2020. Durante esse período, tive a ideia de redefinir meus planos de vida, possivelmente influenciado pela pandemia.\n",
    "\n",
    "Em 2014, enquanto cursava a disciplina de Estatística Básica e Probabilidade no curso de química, fiquei surpreso com a capacidade dessa área de descobrir informações relevantes a partir de conjuntos de dados. Essa sensação foi semelhante à que experimentei quando tive meu primeiro contato com um HPLC (equipamenteo de análise química), embora eu não consiga explicar exatamente o que desencadeou essa mudança de perspectiva. Acredito que todos já tenham vivenciado momentos assim.\n",
    "Em resumo, percebi que precisava cursar o bacharelado em Estatística em algum momento da minha vida. Assim, em maio de 2021, iniciei essa jornada, mesmo estando a 3.862,2 km de distância de casa\n",
    "\n",
    "Desde então, entrei numa empresa júnior de consultoria estatística (inclusive, fui presidente), participei de vários processos seletivos, aprimorei minhas habildades em programação e comunicação, virei sócio numa empresa de análise de dados para acadêmicos de pós-graduação (Adamy Tech). No geral, fiz bastante coisa como todo brasileiro médio em busca do seu lugar ao sol.\n",
    "\n",
    "Por fim, gostaria de expressar meus sinceros agradecimentos ao professor Vinicius Duarte, do curso de Estatística da UFPa, que ministrou a disciplina com imensurável dedicação e paciência. Embora não saiba se o Sr. um dia lerá este texto, quero dizer: muito obrigado. \n",
    "\n"
   ]
  },
  {
   "cell_type": "markdown",
   "metadata": {},
   "source": [
    "Bibliotecas Python utilizadas\n",
    " - Pandas\n",
    " - Numpy\n",
    " - Seaborn\n",
    " - Matplotlib"
   ]
  },
  {
   "cell_type": "code",
   "execution_count": 2,
   "metadata": {},
   "outputs": [],
   "source": [
    "# IMPORTANTO BIBLIOTECAS\n",
    "import pandas as pd\n",
    "import numpy as np\n",
    "import seaborn as sn\n",
    "import matplotlib.pyplot as plt"
   ]
  },
  {
   "cell_type": "markdown",
   "metadata": {},
   "source": [
    "# Capítulo 1 -  População e Amostra\n",
    "\n",
    "Antes de inciarmos as aplicações das medidas de posições, ditribuições de frequências ou representação gráfica  de  em um conjunto de dados, é importante formalizar alguns conceitos básicos, porém de suma importância para a compreensão do objetivo principal da estatística descritiva. \n",
    "Afinal, o que seria uma populção e o que seria uma amostra ? \n",
    "De forma resumida, podemos definir a população como o conjunto total dos elementos que são de interesse de estudo e apresentam similaridade entre si. Por exemplo:\n",
    "- Um grupo de aves;\n",
    "- Alunos (as) de uma universidade; \n",
    "- Um conjunto de carros.\n",
    "\n",
    "Por outro lado, uma amostra é um subconjunto significativo da população, comumente utilizado quando estudar toda população se torna inviável por inumeros fatores. \n",
    "\n",
    "Vamos utilizar um exemplo prático: Imagine uma escola com um total de **1500 alunos**, divididos em dois turnos distintos. Um estatístico deseja estudar o desempenho dos alunos de todas as séries em algumas disciplinas. Para isso, ele sorteia aleatoriamente os números de matrícula e coleta informações sobre as notas de uma amostra de **200 alunos**, que pertencem a diferentes turmas e sexos. Portanto, temos a **população de 1500 alunos** e uma **amostra aleatória de 200 alunos**.\n"
   ]
  }
 ],
 "metadata": {
  "kernelspec": {
   "display_name": "venv",
   "language": "python",
   "name": "python3"
  },
  "language_info": {
   "codemirror_mode": {
    "name": "ipython",
    "version": 3
   },
   "file_extension": ".py",
   "mimetype": "text/x-python",
   "name": "python",
   "nbconvert_exporter": "python",
   "pygments_lexer": "ipython3",
   "version": "3.9.16+"
  }
 },
 "nbformat": 4,
 "nbformat_minor": 2
}
