{
 "cells": [
  {
   "cell_type": "markdown",
   "metadata": {},
   "source": [
    "# Estatística Descritiva e Geral  \n",
    "### Autor: Thiago Tavares Lopes\n",
    "### Contato: \n"
   ]
  },
  {
   "cell_type": "markdown",
   "metadata": {},
   "source": [
    "### Apresentação Pessoal\n",
    "Meu nome é Thiago, sou químico e, atualmente, estudante de Estatística na Universidade Federal de Santa Maria. Após uma longa jornada no mundo da química, envolvendo pesquisas científicas, artigos acadêmicos e inúmeras culturas de bactérias dentro de tubos de ensaio, passei anos imerso em laboratórios de biotecnologia, de 2013 até 2019. Durante esse período, tive a ideia de redefinir meus planos de vida, possivelmente influenciado pela pandemia desisti do mestrado e fui seguir um sonho antigo.\n",
    "\n",
    "Em 2014, enquanto cursava a disciplina de Estatística Básica e Probabilidade no curso de química, fiquei surpreso com a capacidade de descobrir informações relevantes a partir de conjuntos de dados. Essa sensação foi semelhante à que experimentei quando tive meu primeiro contato com um HPLC (equipamenteo de análise química), embora eu não consiga explicar exatamente o que desencadeou essa mudança de perspectiva. Acredito que todos já tenham vivenciado momentos assim.\n",
    "Em resumo, percebi que precisava cursar o bacharelado em Estatística em algum momento da minha vida. Assim, em maio de 2021, iniciei essa jornada, a 3.862,2 km de distância de casa.\n",
    "\n",
    "Desde então, entrei numa empresa júnior de consultoria estatística (inclusive, fui presidente), participei de vários processos seletivos, aprimorei minhas habildades em programação e comunicação, virei sócio numa empresa de análise de dados para acadêmicos de pós-graduação (Adamy Tech). No geral, fiz bastante coisa como todo brasileiro médio em busca do seu lugar ao sol.\n",
    "\n",
    "Por fim, gostaria de expressar meus sinceros agradecimentos ao professor Vinicius Duarte, do curso de Estatística da UFPa, que no ano de 2014 ministrou a disciplina com imensurável dedicação e paciência. Embora não saiba se o Sr. um dia lerá este texto, quero dizer: muito obrigado. \n",
    "\n"
   ]
  },
  {
   "cell_type": "markdown",
   "metadata": {},
   "source": [
    "# Bibliotecas Utilizadas\n",
    "Bibliotecas Python utilizadas\n",
    " - [Pandas](https://pandas.pydata.org/)\n",
    " - [Numpy](https://numpy.org/doc/stable/index.html#)\n",
    " - [Seaborn](https://seaborn.pydata.org/)\n",
    " - [Matplotlib](https://matplotlib.org/)\n",
    "\n",
    "\n",
    "Não pretendo me aprofundar nas bibliotecas utilizadas neste documento. Em caso de dúvidas, recomendo consultar a documentação de cada uma delas.\n",
    "\n",
    "\n",
    " Base de dados:  Para alguns exemplos de construção gráfica e de resolução de exercícios, utilizei dados disponibilizados no seguinte [link](https://www.ime.usp.br/~pam/EstBas.html) "
   ]
  },
  {
   "cell_type": "code",
   "execution_count": 14,
   "metadata": {},
   "outputs": [],
   "source": [
    "#  BIBLIOTECAS\n",
    "import pandas as pd\n",
    "import numpy as np\n",
    "import seaborn as sn\n",
    "import matplotlib.pyplot as plt"
   ]
  },
  {
   "cell_type": "markdown",
   "metadata": {},
   "source": [
    "# Capítulo ? - Tipos de Variáveis\n",
    "O primeiro ponto deste capítulo é definir o que seria uma **Variável** em termos estatísticos. Basicamente, uma **Variável** nada mais é do que uma característica de interesse do nosso conjunto de dados o qual buscamos investigar.\n",
    "\n",
    "Podemos classificar as variáveis da seguinte forma:\n",
    "\n",
    "1 Variáveis Qualitativas\n",
    "  - Qualitativas Nominais\n",
    "  - Qualitativas Ordinais\n",
    "\n",
    "2 Variáveis Quantitativas\n",
    "  - Quantitativas Discretas\n",
    "  - Quantitativas Contínuas\n",
    "\n",
    "  ### Variável Qualitativa \n",
    "Um variável qualitativa remete a uma qualidade do conjunto de dados, por exemplo: Sexo, raça, escolaridade. \n"
   ]
  },
  {
   "cell_type": "markdown",
   "metadata": {},
   "source": [
    "# Capítulo ? -  População e Amostra\n",
    "\n",
    "Antes de inciarmos as aplicações das medidas de posições, ditribuições de frequências ou representação gráfica  de  em um conjunto de dados, é importante formalizar alguns conceitos básicos, porém de suma importância para a compreensão do objetivo principal da estatística descritiva. \n",
    "Afinal, o que seria uma populção e o que seria uma amostra ? \n",
    "De forma resumida, podemos definir a população como o conjunto total dos elementos que são de interesse de estudo e apresentam similaridade entre si. Por exemplo:\n",
    "- Um grupo de aves;\n",
    "- Alunos(as) de uma universidade; \n",
    "- Um conjunto de carros fabricados anualmente.\n",
    "\n",
    "Por outro lado, uma amostra é um subconjunto significativo da população, comumente utilizado quando estudar toda população se torna inviável por inúmeros fatores. \n",
    "\n",
    "Vamos utilizar um exemplo prático: Imagine uma escola com um total de **1500 alunos**, divididos em dois turnos distintos. Um estatístico deseja estudar o desempenho dos alunos de todas as séries em algumas disciplinas. Para isso, ele sorteia aleatoriamente os números de matrícula e coleta informações sobre as notas de uma amostra de **200 alunos**, que pertencem a diferentes turmas e sexos. Portanto, temos a **população de 1500 alunos** e uma **amostra aleatória de 200 alunos**.\n",
    "\n",
    "Para mais informações acesseo o [glossário](https://www.statistics.com/). \n"
   ]
  },
  {
   "cell_type": "markdown",
   "metadata": {},
   "source": [
    "# Capitulo ? - Medidas de Posições "
   ]
  },
  {
   "cell_type": "markdown",
   "metadata": {},
   "source": [
    "Se o objetivo for reduzir nosso conjuto de dados em uma única medida  podemos usar uma medida de posição como **média**, **mediana** ou **moda**.  Também são conhecidas com medidas de tedência central  e possibilitam o confronto de comparações entre grupos de dados.\n",
    "Por exemplo, as médias mensais  das vendas de diferentes vendedores de uma loja de roupas ou o tipo de roupa mais vendida no mês.  "
   ]
  },
  {
   "cell_type": "markdown",
   "metadata": {},
   "source": [
    "## Média Aritimética \n",
    "A média aritimética nada mais é do que a soma de todo o seu conjunto de dados dividido pelo total deste mesmo conjuto, segue a expressão matemática:\n",
    "\n",
    "- Média Populacional ($\\mu$)\n",
    "<div align = \"center\" >\n",
    "\n",
    "$\\mu = \\frac{1}{N} \\sum_{i=1}^{N}x_{i}$\n",
    "\n",
    "</div>\n",
    "\n",
    "\n",
    "Para o entendimento de leitores não familiarizados com a linguaguem matemática: \n",
    "1. **$\\mu$** leia **mu**   \n",
    "2.  **$\\sum$** leia **somatório**, no caso estamos de $\\sum_{i=1}^{N}$, estamos somando os temos da posição 1 até a posição N. \n",
    "3. Em **$x_{i}$** estamos informando i-ésimo termo da sequência de valores, ou seja, quando temos o seguinte **$i=1$** estamos dizendo que o valor estrá na posição 1 da sequência.\n",
    "\n",
    "\n",
    "\n",
    "- Média Amostral ($\\bar{X}$) \n",
    "\n",
    "A média amostral é representada por $\\bar{X}$, leia (x barra), também fazemos a soma de todos os valores da amostra e dividimos pelo total da amostral.\n",
    "<div align = \"center\" >\n",
    "\n",
    "$\\bar{X} = \\frac{1}{n} \\sum_{i=1}^{n}x_{i}$\n",
    "\n",
    "</div>\n",
    "\n",
    "Exemplo: Vamos supor que queremos obter a média das idades de cinco indivíduos, sendo elas:  25, 30, 78, 15, 32.\n",
    "\n",
    "temos como resultado:\n",
    "<div align = \"center\">\n",
    "\n",
    "$\\mu = \\frac{1}{N} \\sum_{i=1}^{N}x_{i}$ \n",
    "\n",
    "</div>\n",
    "<div align = \"center\">\n",
    "\n",
    "$\\mu = \\frac{1}{5} \\sum_{i=1}^{5}x_{i}$\n",
    "\n",
    "</div>\n",
    "\n",
    "<div align = \"center\">\n",
    "\n",
    "$\\mu = \\frac{25 + 30 + 78 + 15 + 32}{5}= 36$ \n",
    "\n",
    "\n",
    "</div>\n"
   ]
  },
  {
   "cell_type": "code",
   "execution_count": 15,
   "metadata": {},
   "outputs": [
    {
     "name": "stdout",
     "output_type": "stream",
     "text": [
      "36.0\n"
     ]
    }
   ],
   "source": [
    "# Usando Python para calculcar a média de conjunto de dados\n",
    "n=5\n",
    "idade = [25, 30, 78, 15, 32]\n",
    "media = sum(idade)/n\n",
    "print(media)"
   ]
  },
  {
   "cell_type": "code",
   "execution_count": 16,
   "metadata": {},
   "outputs": [
    {
     "name": "stdout",
     "output_type": "stream",
     "text": [
      "36.0\n"
     ]
    }
   ],
   "source": [
    "# Usando Pandas\n",
    "idade =pd.Series([25, 30, 78, 15, 32])\n",
    "media = idade.mean()\n",
    "print(media)"
   ]
  }
 ],
 "metadata": {
  "kernelspec": {
   "display_name": "venv",
   "language": "python",
   "name": "python3"
  },
  "language_info": {
   "codemirror_mode": {
    "name": "ipython",
    "version": 3
   },
   "file_extension": ".py",
   "mimetype": "text/x-python",
   "name": "python",
   "nbconvert_exporter": "python",
   "pygments_lexer": "ipython3",
   "version": "3.9.16"
  }
 },
 "nbformat": 4,
 "nbformat_minor": 2
}
